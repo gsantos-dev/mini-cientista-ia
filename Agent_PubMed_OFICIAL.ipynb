{
 "cells": [
  {
   "metadata": {
    "ExecuteTime": {
     "end_time": "2025-07-13T02:46:54.672929Z",
     "start_time": "2025-07-13T02:46:53.857782Z"
    }
   },
   "cell_type": "code",
   "source": [
    "from Bio import Entrez\n",
    "import pandas as pd\n",
    "import time\n",
    "from docx import Document\n",
    "from langchain_openai import ChatOpenAI\n",
    "from dotenv import load_dotenv\n",
    "from langchain.prompts import ChatPromptTemplate\n",
    "import re\n",
    "\n",
    "load_dotenv()\n",
    "chat = ChatOpenAI(model='gpt-4o', temperature=0.2, max_tokens=4096)  # controle de max_tokens conforme necessidade\n",
    "Entrez.email = ''"
   ],
   "id": "190cc87030dca8c",
   "outputs": [],
   "execution_count": 31
  },
  {
   "metadata": {
    "ExecuteTime": {
     "end_time": "2025-07-13T02:46:55.094296Z",
     "start_time": "2025-07-13T02:46:55.089797Z"
    }
   },
   "cell_type": "code",
   "source": [
    "def search(query, retmax=30):  retmax: limite de artigos por busca\n",
    "    handle = Entrez.esearch(db='pubmed', sort='relevance', retmax=retmax, retmode='xml', term=query)\n",
    "    results = Entrez.read(handle)\n",
    "    return results['IdList']"
   ],
   "id": "5ec730bc7bf186d8",
   "outputs": [],
   "execution_count": 32
  },
  {
   "metadata": {
    "ExecuteTime": {
     "end_time": "2025-07-13T02:46:55.983956Z",
     "start_time": "2025-07-13T02:46:55.980618Z"
    }
   },
   "cell_type": "code",
   "source": [
    "def fetch_details(id_list):\n",
    "    ids = ','.join(id_list)\n",
    "    handle = Entrez.efetch(db='pubmed', retmode='xml', id=ids)\n",
    "    results = Entrez.read(handle)\n",
    "    return results"
   ],
   "id": "c531b12d69a81508",
   "outputs": [],
   "execution_count": 33
  },
  {
   "metadata": {
    "ExecuteTime": {
     "end_time": "2025-07-13T02:47:18.702125Z",
     "start_time": "2025-07-13T02:46:56.545165Z"
    }
   },
   "cell_type": "code",
   "source": [
    "topics = [\n",
    "    'Whey Protein adverse effects',\n",
    "    'Whey Protein interactions',\n",
    "    'Whey Protein contraindications',\n",
    "    'Whey Protein clinical applications',\n",
    "    'Whey Protein safe doses',\n",
    "    'Whey Protein pregnancy lactation pediatric'\n",
    "]\n",
    "\n",
    "\n",
    "articles_list = []\n",
    "\n",
    "for topic in topics:\n",
    "    print(f'Buscando artigos para: {topic}')\n",
    "    studiesIdList = search(topic, retmax=100)  # Limite de artigos por tópico(Ajuste conforme necessidade)\n",
    "    print(f'  {len(studiesIdList)} artigos encontrados.')\n",
    "    if not studiesIdList:\n",
    "        continue\n",
    "    chunk_size = 100\n",
    "    for i in range(0, len(studiesIdList), chunk_size):\n",
    "        chunk = studiesIdList[i:i+chunk_size]\n",
    "        papers = fetch_details(chunk)\n",
    "        for paper in papers['PubmedArticle']:\n",
    "            pmid = paper['MedlineCitation']['PMID']\n",
    "            title = paper['MedlineCitation']['Article'].get('ArticleTitle', 'No Title')\n",
    "            try:\n",
    "                abstract = ' '.join(paper['MedlineCitation']['Article']['Abstract']['AbstractText'])\n",
    "            except:\n",
    "                abstract = 'No Abstract'\n",
    "            try:\n",
    "                authors = paper['MedlineCitation']['Article']['AuthorList']\n",
    "                authors = '; '.join([f\"{a.get('LastName','')} {a.get('Initials','')}\".strip() for a in authors if 'LastName' in a])\n",
    "            except:\n",
    "                authors = ''\n",
    "            journal = paper['MedlineCitation']['Article']['Journal'].get('Title', '')\n",
    "            language = paper['MedlineCitation']['Article'].get('Language', [''])[0]\n",
    "            try:\n",
    "                year = paper['MedlineCitation']['Article']['Journal']['JournalIssue']['PubDate'].get('Year', '')\n",
    "                month = paper['MedlineCitation']['Article']['Journal']['JournalIssue']['PubDate'].get('Month', '')\n",
    "            except:\n",
    "                year = ''\n",
    "                month = ''\n",
    "            doi = ''\n",
    "            try:\n",
    "                for id_item in paper['MedlineCitation']['Article'].get('ELocationID', []):\n",
    "                    if id_item.attributes['EIdType'] == 'doi':\n",
    "                        doi = str(id_item)\n",
    "                        break\n",
    "            except:\n",
    "                pass\n",
    "\n",
    "            article_data = {\n",
    "                'Topico_busca': topic,\n",
    "                'PMID': pmid,\n",
    "                'Title': title,\n",
    "                'Abstract': abstract,\n",
    "                'Authors': authors,\n",
    "                'Journal': journal,\n",
    "                'Language': language,\n",
    "                'Year': year,\n",
    "                'Month': month,\n",
    "                'DOI': doi,\n",
    "            }\n",
    "            articles_list.append(article_data)\n",
    "        time.sleep(1)\n",
    "\n",
    "df = pd.DataFrame(articles_list)\n",
    "df.to_excel('Resultados_PubMed_WheyProtein.xlsx', index=False)\n",
    "print(\"Arquivo Excel salvo!\")"
   ],
   "id": "f20372d8643b9ee8",
   "outputs": [
    {
     "name": "stdout",
     "output_type": "stream",
     "text": [
      "Buscando artigos para: Whey Protein adverse effects\n",
      "  100 artigos encontrados.\n",
      "Buscando artigos para: Whey Protein interactions\n",
      "  100 artigos encontrados.\n",
      "Buscando artigos para: Whey Protein contraindications\n",
      "  10 artigos encontrados.\n",
      "Buscando artigos para: Whey Protein clinical applications\n",
      "  93 artigos encontrados.\n",
      "Buscando artigos para: Whey Protein safe doses\n",
      "  10 artigos encontrados.\n",
      "Buscando artigos para: Whey Protein pregnancy lactation pediatric\n",
      "  19 artigos encontrados.\n",
      "Arquivo Excel salvo!\n"
     ]
    }
   ],
   "execution_count": 34
  },
  {
   "metadata": {
    "ExecuteTime": {
     "end_time": "2025-07-13T02:47:43.368273Z",
     "start_time": "2025-07-13T02:47:43.320269Z"
    }
   },
   "cell_type": "code",
   "source": [
    "# Agrupa os artigos por tópicos do modelo\n",
    "topic_keywords = {\n",
    "    \"DESCRIÇÃO GERAL\": [\"whey protein\", \"proteína do soro\", \"general\", \"overview\"],\n",
    "    \"MECANISMOS DE AÇÃO\": [\"mechanism\", \"mecanismo\", \"pathway\", \"metabolic\", \"biochemical\"],\n",
    "    \"BENEFÍCIOS E APLICAÇÕES\": [\"benefit\", \"aplicação\", \"improvement\", \"performance\", \"muscle\", \"clinical\", \"tratamento\", \"disease\", \"elderly\", \"health\", \"athlete\"],\n",
    "    \"DOSES USUAIS\": [\"dose\", \"dosing\", \"posology\", \"mg\", \"g/kg\", \"ingestão\", \"consumo\"],\n",
    "    \"EFEITOS COLATERAIS\": [\"side effect\", \"efeito colateral\", \"adverse\", \"toxicity\", \"tóxico\"],\n",
    "    \"TOXICIDADE E SEGURANÇA\": [\"safety\", \"toxicidade\", \"safe\", \"security\", \"toxic\", \"segurança\"],\n",
    "    \"USO EM POPULAÇÕES ESPECIAIS\": [\"pregnancy\", \"lactation\", \"gestante\", \"lactante\", \"pediatria\", \"child\", \"infant\", \"elderly\", \"idoso\"],\n",
    "    \"CONTRAINDICAÇÕES E PRECAUÇÕES\": [\"contraindication\", \"contraindicação\", \"caution\", \"precaução\", \"not recommended\"],\n",
    "}\n",
    "\n",
    "def classify_article(title, abstract):\n",
    "    text = f\"{str(title)} {str(abstract)}\".lower()\n",
    "    sections = []\n",
    "    for topic, keywords in topic_keywords.items():\n",
    "        for kw in keywords:\n",
    "            if kw in text:\n",
    "                sections.append(topic)\n",
    "                break\n",
    "    if not sections:\n",
    "        sections = [\"DESCRIÇÃO GERAL\"]\n",
    "    return sections\n",
    "\n",
    "articles_by_topic = {key: [] for key in topic_keywords}\n",
    "for _, row in df.iterrows():\n",
    "    sections = classify_article(row['Title'], row['Abstract'])\n",
    "    for topic in sections:\n",
    "        ref = \"\"\n",
    "        if row['Authors'] and row['Year']:\n",
    "            ref = f\"{row['Authors'].split(';')[0].strip()} et al., {row['Year']}\"\n",
    "        elif row['Authors']:\n",
    "            ref = f\"{row['Authors'].split(';')[0].strip()}\"\n",
    "        elif row['Year']:\n",
    "            ref = f\"{row['Year']}\"\n",
    "        artigo = f\"- {row['Title']} ({ref})\\n  {row['Abstract']}\"\n",
    "        articles_by_topic[topic].append(artigo)"
   ],
   "id": "29a1a0a0249ae9fe",
   "outputs": [],
   "execution_count": 35
  },
  {
   "metadata": {
    "ExecuteTime": {
     "end_time": "2025-07-13T02:47:45.032753Z",
     "start_time": "2025-07-13T02:47:45.029601Z"
    }
   },
   "cell_type": "code",
   "source": [
    "model_sections = [\n",
    "    \"DESCRIÇÃO GERAL\",\n",
    "    \"MECANISMOS DE AÇÃO\",\n",
    "    \"BENEFÍCIOS E APLICAÇÕES\",\n",
    "    \"DOSES USUAIS\",\n",
    "    \"EFEITOS COLATERAIS\",\n",
    "    \"TOXICIDADE E SEGURANÇA\",\n",
    "    \"USO EM POPULAÇÕES ESPECIAIS\",\n",
    "    \"CONTRAINDICAÇÕES E PRECAUÇÕES\",\n",
    "]"
   ],
   "id": "fa37f974d8e23c26",
   "outputs": [],
   "execution_count": 36
  },
  {
   "metadata": {
    "ExecuteTime": {
     "end_time": "2025-07-13T02:47:45.812548Z",
     "start_time": "2025-07-13T02:47:45.807567Z"
    }
   },
   "cell_type": "code",
   "source": [
    "def mega_prompt_otimizado(sec, artigos, tema=\"Whey Protein\"):\n",
    "    return f\"\"\"\n",
    "Você é um redator científico especializado em redação acadêmica, com experiência na produção de artigos científicos para periódicos de alto impacto. Sua tarefa é elaborar a seção abaixo do artigo científico sobre {tema}, utilizando EXCLUSIVAMENTE os dados apresentados nos artigos fornecidos.\n",
    "\n",
    "SIGA RIGOROSAMENTE AS INSTRUÇÕES:\n",
    "- NÃO utilize nenhum conhecimento prévio, apenas os dados fornecidos.\n",
    "- NÃO invente, assuma ou complemente informações que não estejam expressas nos artigos abaixo.\n",
    "- NÃO repita informações desnecessárias.\n",
    "- Cite os autores e o ano do estudo ao mencionar qualquer dado (exemplo: Silva et al., 2023).\n",
    "- Utilize português formal, técnico e acadêmico, com variações de conectivos e estrutura textual fluida.\n",
    "- Utilize marcadores, listas e destaque em negrito para usos, doses, efeitos, aplicações clínicas e outros dados quantitativos quando pertinente.\n",
    "- Estruture a seção conforme exemplos a seguir:\n",
    "\n",
    "EXEMPLO DE FORMATO DE PARÁGRAFO E CITAÇÃO:\n",
    "- “A suplementação com whey protein demonstrou impacto positivo na recuperação muscular (Souza et al., 2023). Além disso, observou-se redução significativa de marcadores inflamatórios em atletas submetidos a treinamento intenso (Silva et al., 2022).”\n",
    "- “**Usos específicos:**”\n",
    "    • **Desempenho esportivo:** 10-30 g/dia (Carvalho et al., 2022)\n",
    "\n",
    "SEÇÃO: {sec.upper()}\n",
    "\n",
    "ARTIGOS FORNECIDOS:\n",
    "{chr(10).join(artigos)}\n",
    "\n",
    "Oriente-se pelo modelo abaixo ao redigir sua resposta:\n",
    "- Parágrafo de abertura: contextualize brevemente o tema da seção, utilizando dados dos artigos.\n",
    "- Desenvolvimento: organize as evidências em subtópicos, listas, bullets e destaque dados relevantes em negrito. Conecte ideias usando conectivos variados (além disso, dessa forma, consequentemente, etc).\n",
    "- Citações obrigatórias: sempre relacione cada afirmação a pelo menos um artigo/autor citado.\n",
    "- Conclusão curta da seção: feche a seção reafirmando as principais descobertas, sempre com base nos artigos.\n",
    "\n",
    "IMPORTANTE:\n",
    "- Nunca escreva referências bibliográficas ao final da seção.\n",
    "- Jamais “encha linguiça”. Mantenha o texto denso, claro, objetivo, informativo e profissional.\n",
    "- Não repita frases dos artigos, sempre parafraseie e organize.\n",
    "\"\"\""
   ],
   "id": "2ee09b6a68fc1965",
   "outputs": [],
   "execution_count": 37
  },
  {
   "metadata": {
    "ExecuteTime": {
     "end_time": "2025-07-13T02:58:31.709607Z",
     "start_time": "2025-07-13T02:47:47.261621Z"
    }
   },
   "cell_type": "code",
   "source": [
    "def gerar_texto_secao_bloco(sec, artigos, tema=\"Whey Protein\", max_artigos_por_bloco=25):\n",
    "    textos_finais = []\n",
    "    for i in range(0, len(artigos), max_artigos_por_bloco):\n",
    "        artigos_bloco = artigos[i:i + max_artigos_por_bloco]\n",
    "        prompt_secao = mega_prompt_otimizado(sec, artigos_bloco, tema)\n",
    "        prompt_t = ChatPromptTemplate.from_messages([\n",
    "            ('system', \"Você é um redator científico especializado.\"),\n",
    "            ('user', prompt_secao)\n",
    "        ])\n",
    "        resposta = chat.invoke(prompt_t.format_messages())\n",
    "        textos_finais.append(resposta.content)\n",
    "        time.sleep(2)\n",
    "    return \"\\n\".join(textos_finais)\n",
    "\n",
    "\n",
    "conteudo_artigo = {}\n",
    "for sec in model_sections:\n",
    "    print(f\"\\n--- Gerando seção: {sec} ---\")\n",
    "    artigos = articles_by_topic[sec]\n",
    "    conteudo = gerar_texto_secao_bloco(sec, artigos, max_artigos_por_bloco=20)\n",
    "    conteudo_artigo[sec] = conteudo\n",
    "    time.sleep(2)"
   ],
   "id": "94b0da0eea28bd88",
   "outputs": [
    {
     "name": "stdout",
     "output_type": "stream",
     "text": [
      "\n",
      "--- Gerando seção: DESCRIÇÃO GERAL ---\n",
      "\n",
      "--- Gerando seção: MECANISMOS DE AÇÃO ---\n",
      "\n",
      "--- Gerando seção: BENEFÍCIOS E APLICAÇÕES ---\n",
      "\n",
      "--- Gerando seção: DOSES USUAIS ---\n",
      "\n",
      "--- Gerando seção: EFEITOS COLATERAIS ---\n",
      "\n",
      "--- Gerando seção: TOXICIDADE E SEGURANÇA ---\n",
      "\n",
      "--- Gerando seção: USO EM POPULAÇÕES ESPECIAIS ---\n",
      "\n",
      "--- Gerando seção: CONTRAINDICAÇÕES E PRECAUÇÕES ---\n"
     ]
    }
   ],
   "execution_count": 38
  },
  {
   "metadata": {
    "ExecuteTime": {
     "end_time": "2025-07-13T02:58:53.793319Z",
     "start_time": "2025-07-13T02:58:53.727529Z"
    }
   },
   "cell_type": "code",
   "source": [
    "# Gera o arquivo Word final\n",
    "doc = Document()\n",
    "doc.add_heading('Whey Protein – Artigo Científico', 0)\n",
    "for sec in model_sections:\n",
    "    doc.add_heading(sec, level=1)\n",
    "    doc.add_paragraph(conteudo_artigo[sec])\n",
    "doc.save(\"Artigo_Cientifico_WheyProtein.docx\")\n",
    "print(\"Artigo gerado em Artigoooooo_Cientifico_WheyProtein.docx!\")"
   ],
   "id": "4e0f0698676c8d6d",
   "outputs": [
    {
     "name": "stdout",
     "output_type": "stream",
     "text": [
      "Artigo gerado em Artigoooooo_Cientifico_WheyProtein.docx!\n"
     ]
    }
   ],
   "execution_count": 39
  }
 ],
 "metadata": {
  "kernelspec": {
   "display_name": "Python 3",
   "language": "python",
   "name": "python3"
  },
  "language_info": {
   "codemirror_mode": {
    "name": "ipython",
    "version": 2
   },
   "file_extension": ".py",
   "mimetype": "text/x-python",
   "name": "python",
   "nbconvert_exporter": "python",
   "pygments_lexer": "ipython2",
   "version": "2.7.6"
  }
 },
 "nbformat": 4,
 "nbformat_minor": 5
}
